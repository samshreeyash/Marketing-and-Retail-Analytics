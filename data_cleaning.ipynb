{
 "cells": [
  {
   "cell_type": "code",
   "execution_count": 1,
   "id": "89392563",
   "metadata": {},
   "outputs": [],
   "source": [
    "#import the important library\n",
    "import numpy as np\n",
    "import pandas as pd\n",
    "import matplotlib.pyplot as plt\n",
    "import seaborn as sns"
   ]
  },
  {
   "cell_type": "code",
   "execution_count": 2,
   "id": "12f650a5",
   "metadata": {},
   "outputs": [],
   "source": [
    "import warnings\n",
    "warnings.filterwarnings(\"ignore\")"
   ]
  },
  {
   "cell_type": "code",
   "execution_count": 3,
   "id": "fe12a770",
   "metadata": {},
   "outputs": [],
   "source": [
    "#reading the given excel \n",
    "#1st we will read orders sheet\n",
    "orders = pd.read_excel(\"Retail_dataset.xlsx\",sheet_name = \"orders\")\n"
   ]
  },
  {
   "cell_type": "code",
   "execution_count": 4,
   "id": "9497ab5a",
   "metadata": {},
   "outputs": [
    {
     "data": {
      "text/plain": [
       "(99441, 7)"
      ]
     },
     "execution_count": 4,
     "metadata": {},
     "output_type": "execute_result"
    }
   ],
   "source": [
    "orders.shape"
   ]
  },
  {
   "cell_type": "code",
   "execution_count": 5,
   "id": "e05b8735",
   "metadata": {},
   "outputs": [
    {
     "data": {
      "text/plain": [
       "0"
      ]
     },
     "execution_count": 5,
     "metadata": {},
     "output_type": "execute_result"
    }
   ],
   "source": [
    "#checking if there are any duplicate entries for order_id\n",
    "orders.order_id.duplicated().sum()"
   ]
  },
  {
   "cell_type": "code",
   "execution_count": 6,
   "id": "21bb0b68",
   "metadata": {},
   "outputs": [
    {
     "data": {
      "text/plain": [
       "8d50f5eadf50201ccdcedfb9e2ac8455    17\n",
       "3e43e6105506432c953e165fb2acf44c     9\n",
       "1b6c7548a2a1f9037c1fd3ddfed95f33     7\n",
       "ca77025e7201e3b30c44b472ff346268     7\n",
       "6469f99c1f9dfae7733b25662e7f1782     7\n",
       "                                    ..\n",
       "d6fe1d8f8260d270ec05c8b3065c8eaa     1\n",
       "8c0386035e15f02612c89d29d7694b41     1\n",
       "c1c0e094a7fbde66794da6ee9f9d1dda     1\n",
       "6d90b4cc432b22857f3660864f240b0c     1\n",
       "60350aa974b26ff12caad89e55993bd6     1\n",
       "Name: customer_id, Length: 96096, dtype: int64"
      ]
     },
     "execution_count": 6,
     "metadata": {},
     "output_type": "execute_result"
    }
   ],
   "source": [
    "#just checking if customer_id is duplicated \n",
    "orders.customer_id.value_counts()"
   ]
  },
  {
   "cell_type": "code",
   "execution_count": 7,
   "id": "9cb4184f",
   "metadata": {},
   "outputs": [
    {
     "data": {
      "text/plain": [
       "(96478, 7)"
      ]
     },
     "execution_count": 7,
     "metadata": {},
     "output_type": "execute_result"
    }
   ],
   "source": [
    "# as per the problem statement states we have to \n",
    "orders = orders[orders.order_status==\"delivered\"]\n",
    "orders.shape"
   ]
  },
  {
   "cell_type": "code",
   "execution_count": 8,
   "id": "ec170f84",
   "metadata": {},
   "outputs": [
    {
     "data": {
      "text/plain": [
       "order_id                          0\n",
       "customer_id                       0\n",
       "order_status                      0\n",
       "order_purchase_timestamp          0\n",
       "order_approved_at                14\n",
       "order_delivered_timestamp         8\n",
       "order_estimated_delivery_date     0\n",
       "dtype: int64"
      ]
     },
     "execution_count": 8,
     "metadata": {},
     "output_type": "execute_result"
    }
   ],
   "source": [
    "orders.isna().sum()"
   ]
  },
  {
   "cell_type": "code",
   "execution_count": 9,
   "id": "27196ea5",
   "metadata": {},
   "outputs": [],
   "source": [
    "orders.order_approved_at.fillna(orders.order_purchase_timestamp, inplace=True)"
   ]
  },
  {
   "cell_type": "code",
   "execution_count": 10,
   "id": "04b9576c",
   "metadata": {},
   "outputs": [],
   "source": [
    "orders.order_delivered_timestamp.fillna(orders.order_estimated_delivery_date, inplace=True)"
   ]
  },
  {
   "cell_type": "code",
   "execution_count": 11,
   "id": "90df823a",
   "metadata": {},
   "outputs": [
    {
     "data": {
      "text/plain": [
       "order_id                         0\n",
       "customer_id                      0\n",
       "order_status                     0\n",
       "order_purchase_timestamp         0\n",
       "order_approved_at                0\n",
       "order_delivered_timestamp        0\n",
       "order_estimated_delivery_date    0\n",
       "dtype: int64"
      ]
     },
     "execution_count": 11,
     "metadata": {},
     "output_type": "execute_result"
    }
   ],
   "source": [
    "orders.isna().sum()"
   ]
  },
  {
   "cell_type": "code",
   "execution_count": 12,
   "id": "5d606fc4",
   "metadata": {},
   "outputs": [
    {
     "data": {
      "text/plain": [
       "(112650, 6)"
      ]
     },
     "execution_count": 12,
     "metadata": {},
     "output_type": "execute_result"
    }
   ],
   "source": [
    "order_items = pd.read_excel(\"Retail_dataset.xlsx\",sheet_name = \"order_items\")\n",
    "order_items.shape"
   ]
  },
  {
   "cell_type": "code",
   "execution_count": 13,
   "id": "38fda791",
   "metadata": {},
   "outputs": [
    {
     "data": {
      "text/plain": [
       "order_id            0\n",
       "order_item_id       0\n",
       "product_id          0\n",
       "seller_id           0\n",
       "price               0\n",
       "shipping_charges    0\n",
       "dtype: int64"
      ]
     },
     "execution_count": 13,
     "metadata": {},
     "output_type": "execute_result"
    }
   ],
   "source": [
    "order_items.isnull().sum()"
   ]
  },
  {
   "cell_type": "code",
   "execution_count": 14,
   "id": "2bda6d7c",
   "metadata": {},
   "outputs": [
    {
     "data": {
      "text/plain": [
       "0"
      ]
     },
     "execution_count": 14,
     "metadata": {},
     "output_type": "execute_result"
    }
   ],
   "source": [
    "order_items.duplicated().sum()"
   ]
  },
  {
   "cell_type": "code",
   "execution_count": 15,
   "id": "2c1e1363",
   "metadata": {},
   "outputs": [
    {
     "data": {
      "text/plain": [
       "(99441, 4)"
      ]
     },
     "execution_count": 15,
     "metadata": {},
     "output_type": "execute_result"
    }
   ],
   "source": [
    "customers = pd.read_excel(\"Retail_dataset.xlsx\",sheet_name = \"customers\")\n",
    "customers.shape"
   ]
  },
  {
   "cell_type": "code",
   "execution_count": 16,
   "id": "857ef2d0",
   "metadata": {},
   "outputs": [
    {
     "data": {
      "text/plain": [
       "customer_id                 0\n",
       "customer_zip_code_prefix    0\n",
       "customer_city               0\n",
       "customer_state              0\n",
       "dtype: int64"
      ]
     },
     "execution_count": 16,
     "metadata": {},
     "output_type": "execute_result"
    }
   ],
   "source": [
    "customers.isna().sum()"
   ]
  },
  {
   "cell_type": "code",
   "execution_count": 17,
   "id": "3e3bab81",
   "metadata": {},
   "outputs": [
    {
     "data": {
      "text/plain": [
       "3345"
      ]
     },
     "execution_count": 17,
     "metadata": {},
     "output_type": "execute_result"
    }
   ],
   "source": [
    "customers.customer_id.duplicated().sum()"
   ]
  },
  {
   "cell_type": "code",
   "execution_count": 18,
   "id": "1e4d6537",
   "metadata": {},
   "outputs": [],
   "source": [
    "customers.drop_duplicates(subset='customer_id',keep = 'first',inplace =True)"
   ]
  },
  {
   "cell_type": "code",
   "execution_count": 19,
   "id": "69aa4f56",
   "metadata": {},
   "outputs": [
    {
     "data": {
      "text/plain": [
       "(96096, 4)"
      ]
     },
     "execution_count": 19,
     "metadata": {},
     "output_type": "execute_result"
    }
   ],
   "source": [
    "customers.shape"
   ]
  },
  {
   "cell_type": "code",
   "execution_count": 20,
   "id": "fc0d17c6",
   "metadata": {},
   "outputs": [
    {
     "data": {
      "text/plain": [
       "(103886, 5)"
      ]
     },
     "execution_count": 20,
     "metadata": {},
     "output_type": "execute_result"
    }
   ],
   "source": [
    "payments = pd.read_excel(\"Retail_dataset.xlsx\",sheet_name = 'payments')\n",
    "payments.shape"
   ]
  },
  {
   "cell_type": "code",
   "execution_count": 21,
   "id": "fa231186",
   "metadata": {},
   "outputs": [
    {
     "data": {
      "text/plain": [
       "order_id                0\n",
       "payment_sequential      0\n",
       "payment_type            0\n",
       "payment_installments    0\n",
       "payment_value           0\n",
       "dtype: int64"
      ]
     },
     "execution_count": 21,
     "metadata": {},
     "output_type": "execute_result"
    }
   ],
   "source": [
    "payments.isnull().sum()"
   ]
  },
  {
   "cell_type": "code",
   "execution_count": 22,
   "id": "9aba035b",
   "metadata": {},
   "outputs": [
    {
     "data": {
      "text/plain": [
       "0"
      ]
     },
     "execution_count": 22,
     "metadata": {},
     "output_type": "execute_result"
    }
   ],
   "source": [
    "payments.duplicated().sum()"
   ]
  },
  {
   "cell_type": "code",
   "execution_count": 23,
   "id": "d25fff30",
   "metadata": {},
   "outputs": [
    {
     "data": {
      "text/plain": [
       "(32951, 6)"
      ]
     },
     "execution_count": 23,
     "metadata": {},
     "output_type": "execute_result"
    }
   ],
   "source": [
    "products = pd.read_excel(\"Retail_dataset.xlsx\",sheet_name='products')\n",
    "products.shape"
   ]
  },
  {
   "cell_type": "code",
   "execution_count": 24,
   "id": "ed42285d",
   "metadata": {},
   "outputs": [
    {
     "data": {
      "text/plain": [
       "product_id                 0\n",
       "product_category_name    170\n",
       "product_weight_g           2\n",
       "product_length_cm          2\n",
       "product_height_cm          2\n",
       "product_width_cm           2\n",
       "dtype: int64"
      ]
     },
     "execution_count": 24,
     "metadata": {},
     "output_type": "execute_result"
    }
   ],
   "source": [
    "products.isna().sum()"
   ]
  },
  {
   "cell_type": "code",
   "execution_count": 25,
   "id": "ca10219c",
   "metadata": {},
   "outputs": [
    {
     "data": {
      "text/plain": [
       "toys                                 24725\n",
       "bed_bath_table                         789\n",
       "sports_leisure                         721\n",
       "furniture_decor                        687\n",
       "health_beauty                          648\n",
       "                                     ...  \n",
       "fashion_childrens_clothes                1\n",
       "diapers_and_hygiene                      1\n",
       "home_comfort_2                           1\n",
       "security_and_services                    1\n",
       "furniture_mattress_and_upholstery        1\n",
       "Name: product_category_name, Length: 70, dtype: int64"
      ]
     },
     "execution_count": 25,
     "metadata": {},
     "output_type": "execute_result"
    }
   ],
   "source": [
    "products.product_category_name.value_counts()"
   ]
  },
  {
   "cell_type": "code",
   "execution_count": 26,
   "id": "e01042bb",
   "metadata": {},
   "outputs": [
    {
     "data": {
      "text/plain": [
       "toys                                 75.424789\n",
       "bed_bath_table                        2.406882\n",
       "sports_leisure                        2.199445\n",
       "furniture_decor                       2.095726\n",
       "health_beauty                         1.976755\n",
       "                                       ...    \n",
       "fashion_childrens_clothes             0.003051\n",
       "diapers_and_hygiene                   0.003051\n",
       "home_comfort_2                        0.003051\n",
       "security_and_services                 0.003051\n",
       "furniture_mattress_and_upholstery     0.003051\n",
       "Name: product_category_name, Length: 70, dtype: float64"
      ]
     },
     "execution_count": 26,
     "metadata": {},
     "output_type": "execute_result"
    }
   ],
   "source": [
    "products.product_category_name.value_counts(normalize=True)*100"
   ]
  },
  {
   "cell_type": "code",
   "execution_count": 27,
   "id": "f46a98d7",
   "metadata": {},
   "outputs": [
    {
     "data": {
      "text/plain": [
       "'toys'"
      ]
     },
     "execution_count": 27,
     "metadata": {},
     "output_type": "execute_result"
    }
   ],
   "source": [
    "products.product_category_name.mode()[0]"
   ]
  },
  {
   "cell_type": "code",
   "execution_count": 28,
   "id": "f0b351df",
   "metadata": {},
   "outputs": [],
   "source": [
    "products.product_category_name.fillna(products.product_category_name.mode()[0],inplace = True)"
   ]
  },
  {
   "cell_type": "code",
   "execution_count": 29,
   "id": "395ed59b",
   "metadata": {},
   "outputs": [
    {
     "data": {
      "text/html": [
       "<div>\n",
       "<style scoped>\n",
       "    .dataframe tbody tr th:only-of-type {\n",
       "        vertical-align: middle;\n",
       "    }\n",
       "\n",
       "    .dataframe tbody tr th {\n",
       "        vertical-align: top;\n",
       "    }\n",
       "\n",
       "    .dataframe thead th {\n",
       "        text-align: right;\n",
       "    }\n",
       "</style>\n",
       "<table border=\"1\" class=\"dataframe\">\n",
       "  <thead>\n",
       "    <tr style=\"text-align: right;\">\n",
       "      <th></th>\n",
       "      <th>product_weight_g</th>\n",
       "      <th>product_length_cm</th>\n",
       "      <th>product_height_cm</th>\n",
       "      <th>product_width_cm</th>\n",
       "    </tr>\n",
       "  </thead>\n",
       "  <tbody>\n",
       "    <tr>\n",
       "      <th>count</th>\n",
       "      <td>32949.000000</td>\n",
       "      <td>32949.000000</td>\n",
       "      <td>32949.000000</td>\n",
       "      <td>32949.000000</td>\n",
       "    </tr>\n",
       "    <tr>\n",
       "      <th>mean</th>\n",
       "      <td>2276.472488</td>\n",
       "      <td>30.815078</td>\n",
       "      <td>16.937661</td>\n",
       "      <td>23.196728</td>\n",
       "    </tr>\n",
       "    <tr>\n",
       "      <th>std</th>\n",
       "      <td>4282.038731</td>\n",
       "      <td>16.914458</td>\n",
       "      <td>13.637554</td>\n",
       "      <td>12.079047</td>\n",
       "    </tr>\n",
       "    <tr>\n",
       "      <th>min</th>\n",
       "      <td>0.000000</td>\n",
       "      <td>7.000000</td>\n",
       "      <td>2.000000</td>\n",
       "      <td>6.000000</td>\n",
       "    </tr>\n",
       "    <tr>\n",
       "      <th>25%</th>\n",
       "      <td>300.000000</td>\n",
       "      <td>18.000000</td>\n",
       "      <td>8.000000</td>\n",
       "      <td>15.000000</td>\n",
       "    </tr>\n",
       "    <tr>\n",
       "      <th>50%</th>\n",
       "      <td>700.000000</td>\n",
       "      <td>25.000000</td>\n",
       "      <td>13.000000</td>\n",
       "      <td>20.000000</td>\n",
       "    </tr>\n",
       "    <tr>\n",
       "      <th>75%</th>\n",
       "      <td>1900.000000</td>\n",
       "      <td>38.000000</td>\n",
       "      <td>21.000000</td>\n",
       "      <td>30.000000</td>\n",
       "    </tr>\n",
       "    <tr>\n",
       "      <th>max</th>\n",
       "      <td>40425.000000</td>\n",
       "      <td>105.000000</td>\n",
       "      <td>105.000000</td>\n",
       "      <td>118.000000</td>\n",
       "    </tr>\n",
       "  </tbody>\n",
       "</table>\n",
       "</div>"
      ],
      "text/plain": [
       "       product_weight_g  product_length_cm  product_height_cm  \\\n",
       "count      32949.000000       32949.000000       32949.000000   \n",
       "mean        2276.472488          30.815078          16.937661   \n",
       "std         4282.038731          16.914458          13.637554   \n",
       "min            0.000000           7.000000           2.000000   \n",
       "25%          300.000000          18.000000           8.000000   \n",
       "50%          700.000000          25.000000          13.000000   \n",
       "75%         1900.000000          38.000000          21.000000   \n",
       "max        40425.000000         105.000000         105.000000   \n",
       "\n",
       "       product_width_cm  \n",
       "count      32949.000000  \n",
       "mean          23.196728  \n",
       "std           12.079047  \n",
       "min            6.000000  \n",
       "25%           15.000000  \n",
       "50%           20.000000  \n",
       "75%           30.000000  \n",
       "max          118.000000  "
      ]
     },
     "execution_count": 29,
     "metadata": {},
     "output_type": "execute_result"
    }
   ],
   "source": [
    "products.describe()"
   ]
  },
  {
   "cell_type": "code",
   "execution_count": 30,
   "id": "55bf3d8b",
   "metadata": {},
   "outputs": [],
   "source": [
    "num_cols = list(products.describe().columns)"
   ]
  },
  {
   "cell_type": "code",
   "execution_count": 31,
   "id": "4c8fc237",
   "metadata": {},
   "outputs": [
    {
     "data": {
      "text/plain": [
       "['product_weight_g',\n",
       " 'product_length_cm',\n",
       " 'product_height_cm',\n",
       " 'product_width_cm']"
      ]
     },
     "execution_count": 31,
     "metadata": {},
     "output_type": "execute_result"
    }
   ],
   "source": [
    "num_cols"
   ]
  },
  {
   "cell_type": "code",
   "execution_count": 32,
   "id": "39d05247",
   "metadata": {},
   "outputs": [
    {
     "data": {
      "text/plain": [
       "<function matplotlib.style.core.use(style)>"
      ]
     },
     "execution_count": 32,
     "metadata": {},
     "output_type": "execute_result"
    }
   ],
   "source": [
    "plt.style.use"
   ]
  },
  {
   "cell_type": "code",
   "execution_count": 33,
   "id": "d0f26bbc",
   "metadata": {},
   "outputs": [
    {
     "data": {
      "image/png": "[encoded data removed]",
      "text/plain": [
       "<Figure size 432x288 with 1 Axes>"
      ]
     },
     "metadata": {
      "needs_background": "light"
     },
     "output_type": "display_data"
    },
    {
     "name": "stdout",
     "output_type": "stream",
     "text": [
      "=================================================================\n"
     ]
    },
    {
     "data": {
      "image/png": "[encoded data removed]",
      "text/plain": [
       "<Figure size 432x288 with 1 Axes>"
      ]
     },
     "metadata": {
      "needs_background": "light"
     },
     "output_type": "display_data"
    },
    {
     "name": "stdout",
     "output_type": "stream",
     "text": [
      "=================================================================\n"
     ]
    },
    {
     "data": {
      "image/png": "[encoded data removed]",
      "text/plain": [
       "<Figure size 432x288 with 1 Axes>"
      ]
     },
     "metadata": {
      "needs_background": "light"
     },
     "output_type": "display_data"
    },
    {
     "name": "stdout",
     "output_type": "stream",
     "text": [
      "=================================================================\n"
     ]
    },
    {
     "data": {
      "image/png": "[encoded data removed]",
      "text/plain": [
       "<Figure size 432x288 with 1 Axes>"
      ]
     },
     "metadata": {
      "needs_background": "light"
     },
     "output_type": "display_data"
    },
    {
     "name": "stdout",
     "output_type": "stream",
     "text": [
      "=================================================================\n"
     ]
    }
   ],
   "source": [
    "for n in num_cols:\n",
    "    sns.distplot(products[n])\n",
    "    plt.axvline(products[n].mean(),color='red')\n",
    "    plt.axvline(products[n].median(),color='green')\n",
    "    plt.show()\n",
    "    print(\"=\"*65)"
   ]
  },
  {
   "cell_type": "code",
   "execution_count": 34,
   "id": "a90431ba",
   "metadata": {},
   "outputs": [
    {
     "data": {
      "image/png": "[encoded data removed]",
      "text/plain": [
       "<Figure size 432x288 with 1 Axes>"
      ]
     },
     "metadata": {
      "needs_background": "light"
     },
     "output_type": "display_data"
    },
    {
     "name": "stdout",
     "output_type": "stream",
     "text": [
      "=================================================================\n"
     ]
    },
    {
     "data": {
      "image/png": "[encoded data removed]",
      "text/plain": [
       "<Figure size 432x288 with 1 Axes>"
      ]
     },
     "metadata": {
      "needs_background": "light"
     },
     "output_type": "display_data"
    },
    {
     "name": "stdout",
     "output_type": "stream",
     "text": [
      "=================================================================\n"
     ]
    },
    {
     "data": {
      "image/png": "[encoded data removed]",
      "text/plain": [
       "<Figure size 432x288 with 1 Axes>"
      ]
     },
     "metadata": {
      "needs_background": "light"
     },
     "output_type": "display_data"
    },
    {
     "name": "stdout",
     "output_type": "stream",
     "text": [
      "=================================================================\n"
     ]
    },
    {
     "data": {
      "image/png": "[encoded data removed]",
      "text/plain": [
       "<Figure size 432x288 with 1 Axes>"
      ]
     },
     "metadata": {
      "needs_background": "light"
     },
     "output_type": "display_data"
    },
    {
     "name": "stdout",
     "output_type": "stream",
     "text": [
      "=================================================================\n"
     ]
    }
   ],
   "source": [
    "for n in num_cols:\n",
    "    sns.boxplot(products[n])\n",
    "    plt.axvline(products[n].mean(),color='red')\n",
    "    plt.axvline(products[n].median(),color='green')\n",
    "    plt.show()\n",
    "    print(\"=\"*65)"
   ]
  },
  {
   "cell_type": "code",
   "execution_count": 35,
   "id": "539c0b88",
   "metadata": {},
   "outputs": [],
   "source": [
    "for n in num_cols:\n",
    "    products[n].fillna(products[n].median(),inplace=True)"
   ]
  },
  {
   "cell_type": "code",
   "execution_count": 36,
   "id": "43d11293",
   "metadata": {},
   "outputs": [
    {
     "data": {
      "text/plain": [
       "product_id               0\n",
       "product_category_name    0\n",
       "product_weight_g         0\n",
       "product_length_cm        0\n",
       "product_height_cm        0\n",
       "product_width_cm         0\n",
       "dtype: int64"
      ]
     },
     "execution_count": 36,
     "metadata": {},
     "output_type": "execute_result"
    }
   ],
   "source": [
    "products.isna().sum()"
   ]
  },
  {
   "cell_type": "code",
   "execution_count": 67,
   "id": "54a52baa",
   "metadata": {},
   "outputs": [],
   "source": [
    "writer = pd.ExcelWriter('cleaned_retail_data.xlsx',engine='xlsxwriter')\n",
    "\n",
    "orders.to_excel(writer,sheet_name='orders')\n",
    "\n",
    "order_items.to_excel(writer,sheet_name='order_items')\n",
    "\n",
    "customers.to_excel(writer,sheet_name='customers')\n",
    "\n",
    "payments.to_excel(writer,sheet_name='payments')\n",
    "\n",
    "products.to_excel(writer,sheet_name='products')\n",
    "\n",
    "writer.save()"
   ]
  },
  {
   "cell_type": "code",
   "execution_count": null,
   "id": "ac5d4913",
   "metadata": {},
   "outputs": [],
   "source": []
  }
 ],
 "metadata": {
  "kernelspec": {
   "display_name": "Python 3 (ipykernel)",
   "language": "python",
   "name": "python3"
  },
  "language_info": {
   "codemirror_mode": {
    "name": "ipython",
    "version": 3
   },
   "file_extension": ".py",
   "mimetype": "text/x-python",
   "name": "python",
   "nbconvert_exporter": "python",
   "pygments_lexer": "ipython3",
   "version": "3.9.7"
  }
 },
 "nbformat": 4,
 "nbformat_minor": 5
}
